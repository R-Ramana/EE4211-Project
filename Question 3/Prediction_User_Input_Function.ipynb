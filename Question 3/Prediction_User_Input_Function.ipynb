{
 "cells": [
  {
   "cell_type": "code",
   "execution_count": 19,
   "id": "1cf8036e",
   "metadata": {},
   "outputs": [],
   "source": [
    "import pandas as pd\n",
    "import numpy as np\n",
    "from datetime import datetime\n",
    "import pickle"
   ]
  },
  {
   "cell_type": "code",
   "execution_count": 22,
   "id": "77a96421",
   "metadata": {},
   "outputs": [],
   "source": [
    "def pred_func(current_time, arrival_hour_in, csv, carpark_array):\n",
    "    df = pd.read_csv(csv)\n",
    "    \n",
    "    current_day = int(current_time.day)\n",
    "    current_hour = int(current_time.hour)\n",
    "    arrival_hour = current_hour + arrival_hour_in\n",
    "    \n",
    "    if arrival_hour > 24:\n",
    "        arrival_hour -= 24\n",
    "        current_day += 1\n",
    "    \n",
    "    predictions = []\n",
    "    \n",
    "    print(\"current day\", current_day)\n",
    "    print(\"arrival hour\", arrival_hour)\n",
    "    \n",
    "    for carpark in carpark_array:\n",
    "        carpark_df = df[df[\"carpark_number\"] == carpark]\n",
    "        print(carpark_df)\n",
    "        day_df = carpark_df[carpark_df[\"day\"] == current_day]\n",
    "        final_df = day_df[day_df[\"hour\"] == arrival_hour]\n",
    "        \n",
    "        filename = \"models/model_\" + carpark + \".sav\"\n",
    "        model = pickle.load(open(filename, 'rb'))\n",
    "        \n",
    "        prediction = model.predict([[current_day, arrival_hour, final_df['lag_1'].iloc[0], final_df['lag_168'].iloc[0]]])\n",
    "        predictions.append(prediction)\n",
    "        print(\"actual\", final_df['percent_lots_available'])\n",
    "        \n",
    "    return predictions\n",
    "        \n",
    "\n",
    "#day, lag 1 col, lag168 col, hr\n",
    "#current time (now.date), day, hr, get corresponding row from the df. use those values to predict the percentage lot available."
   ]
  },
  {
   "cell_type": "code",
   "execution_count": 24,
   "id": "e7388ddf",
   "metadata": {},
   "outputs": [
    {
     "name": "stdout",
     "output_type": "stream",
     "text": [
      "current day 9\n",
      "arrival hour 9\n",
      "     carpark_number  hour  percent_lots_available  day  lag_1    lag_168\n",
      "7176           BM20     0                    60.0    1   60.0  81.666667\n",
      "7177           BM20     1                    60.0    1   60.0  81.666667\n",
      "7178           BM20     2                    60.0    1   60.0  81.666667\n",
      "7179           BM20     3                    60.0    1   60.0  81.666667\n",
      "7180           BM20     4                    60.0    1   60.0  81.666667\n",
      "...             ...   ...                     ...  ...    ...        ...\n",
      "7915           BM20    19                    60.0   31   60.0  62.708333\n",
      "7916           BM20    20                    60.0   31   60.0  60.000000\n",
      "7917           BM20    21                    60.0   31   60.0  60.000000\n",
      "7918           BM20    22                    60.0   31   60.0  60.000000\n",
      "7919           BM20    23                    60.0   31   60.0  60.000000\n",
      "\n",
      "[744 rows x 6 columns]\n",
      "actual 7377    60.0\n",
      "Name: percent_lots_available, dtype: float64\n"
     ]
    },
    {
     "name": "stderr",
     "output_type": "stream",
     "text": [
      "C:\\Users\\wamik\\anaconda3\\lib\\site-packages\\sklearn\\base.py:329: UserWarning: Trying to unpickle estimator SVR from version 1.0.2 when using version 1.1.2. This might lead to breaking code or invalid results. Use at your own risk. For more info please refer to:\n",
      "https://scikit-learn.org/stable/model_persistence.html#security-maintainability-limitations\n",
      "  warnings.warn(\n"
     ]
    },
    {
     "data": {
      "text/plain": [
       "[array([60.08257267])]"
      ]
     },
     "execution_count": 24,
     "metadata": {},
     "output_type": "execute_result"
    }
   ],
   "source": [
    "now = datetime.now()\n",
    "preds = pred_func(now, 15, \"oct_data_with_lags.csv\", ['BM20'])\n",
    "preds"
   ]
  },
  {
   "cell_type": "code",
   "execution_count": null,
   "id": "8472fd37",
   "metadata": {},
   "outputs": [],
   "source": []
  }
 ],
 "metadata": {
  "kernelspec": {
   "display_name": "Python 3",
   "language": "python",
   "name": "python3"
  },
  "language_info": {
   "codemirror_mode": {
    "name": "ipython",
    "version": 3
   },
   "file_extension": ".py",
   "mimetype": "text/x-python",
   "name": "python",
   "nbconvert_exporter": "python",
   "pygments_lexer": "ipython3",
   "version": "3.8.8"
  }
 },
 "nbformat": 4,
 "nbformat_minor": 5
}
