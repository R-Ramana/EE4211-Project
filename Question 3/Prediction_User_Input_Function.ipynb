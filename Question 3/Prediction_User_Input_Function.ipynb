{
 "cells": [
  {
   "cell_type": "code",
   "execution_count": 25,
   "id": "1cf8036e",
   "metadata": {},
   "outputs": [],
   "source": [
    "import pandas as pd\n",
    "import numpy as np\n",
    "from datetime import datetime\n",
    "import pickle"
   ]
  },
  {
   "cell_type": "code",
   "execution_count": 26,
   "id": "77a96421",
   "metadata": {},
   "outputs": [],
   "source": [
    "def pred_func(current_time, arrival_hour_in, csv, carpark_array):\n",
    "    df = pd.read_csv(csv)\n",
    "    \n",
    "    current_day = int(current_time.day)\n",
    "    current_hour = int(current_time.hour)\n",
    "    arrival_hour = current_hour + arrival_hour_in\n",
    "    \n",
    "    if arrival_hour > 24:\n",
    "        arrival_hour -= 24\n",
    "        current_day += 1\n",
    "    \n",
    "    predictions = []\n",
    "    \n",
    "    print(\"current day\", current_day)\n",
    "    print(\"arrival hour\", arrival_hour)\n",
    "    \n",
    "    for carpark in carpark_array:\n",
    "        carpark_df = df[df[\"carpark_number\"] == carpark]\n",
    "        print(carpark_df)\n",
    "        day_df = carpark_df[carpark_df[\"day\"] == current_day]\n",
    "        final_df = day_df[day_df[\"hour\"] == arrival_hour]\n",
    "        \n",
    "        filename = \"models/model_\" + carpark + \".sav\"\n",
    "        model = pickle.load(open(filename, 'rb'))\n",
    "        \n",
    "        prediction = model.predict([[current_day, arrival_hour, final_df['lag_1'].iloc[0], final_df['lag_168'].iloc[0]]])\n",
    "        predictions.append(prediction)\n",
    "        print(\"actual\", final_df['percent_lots_available'])\n",
    "        \n",
    "    return predictions\n",
    "        \n",
    "\n",
    "#day, lag 1 col, lag168 col, hr\n",
    "#current time (now.date), day, hr, get corresponding row from the df. use those values to predict the percentage lot available."
   ]
  },
  {
   "cell_type": "code",
   "execution_count": 28,
   "id": "e7388ddf",
   "metadata": {},
   "outputs": [
    {
     "name": "stdout",
     "output_type": "stream",
     "text": [
      "current day 9\n",
      "arrival hour 7\n",
      "       carpark_number  hour  percent_lots_available  day  lag_1  lag_168\n",
      "100080           STM3     0                0.000000    1    0.0      0.0\n",
      "100081           STM3     1                0.000000    1    0.0      0.0\n",
      "100082           STM3     2                0.000000    1    0.0      0.0\n",
      "100083           STM3     3                0.000000    1    0.0      0.0\n",
      "100084           STM3     4               14.090909    1    0.0      0.0\n",
      "...               ...   ...                     ...  ...    ...      ...\n",
      "100819           STM3    19                0.000000   31    0.0      0.0\n",
      "100820           STM3    20                0.000000   31    0.0      0.0\n",
      "100821           STM3    21                0.000000   31    0.0      0.0\n",
      "100822           STM3    22                0.000000   31    0.0      0.0\n",
      "100823           STM3    23                0.000000   31    0.0      0.0\n",
      "\n",
      "[744 rows x 6 columns]\n",
      "actual 100279    14.545455\n",
      "Name: percent_lots_available, dtype: float64\n",
      "     carpark_number  hour  percent_lots_available  day  lag_1    lag_168\n",
      "7176           BM20     0                    60.0    1   60.0  81.666667\n",
      "7177           BM20     1                    60.0    1   60.0  81.666667\n",
      "7178           BM20     2                    60.0    1   60.0  81.666667\n",
      "7179           BM20     3                    60.0    1   60.0  81.666667\n",
      "7180           BM20     4                    60.0    1   60.0  81.666667\n",
      "...             ...   ...                     ...  ...    ...        ...\n",
      "7915           BM20    19                    60.0   31   60.0  62.708333\n",
      "7916           BM20    20                    60.0   31   60.0  60.000000\n",
      "7917           BM20    21                    60.0   31   60.0  60.000000\n",
      "7918           BM20    22                    60.0   31   60.0  60.000000\n",
      "7919           BM20    23                    60.0   31   60.0  60.000000\n",
      "\n",
      "[744 rows x 6 columns]\n",
      "actual 7375    60.0\n",
      "Name: percent_lots_available, dtype: float64\n",
      "       carpark_number  hour  percent_lots_available  day      lag_1    lag_168\n",
      "123096           TE13     0               86.946387    1  86.713287  86.247086\n",
      "123097           TE13     1               85.547786    1  86.946387  85.547786\n",
      "123098           TE13     2               84.965035    1  85.547786  85.314685\n",
      "123099           TE13     3               83.566434    1  84.965035  84.848485\n",
      "123100           TE13     4               83.216783    1  83.566434  84.615385\n",
      "...               ...   ...                     ...  ...        ...        ...\n",
      "123835           TE13    19               69.930070   31  75.524476  80.186480\n",
      "123836           TE13    20               72.261072   31  69.930070  84.149184\n",
      "123837           TE13    21               73.426573   31  72.261072  86.013986\n",
      "123838           TE13    22               74.125874   31  73.426573  86.247086\n",
      "123839           TE13    23               73.776224   31  74.125874  85.547786\n",
      "\n",
      "[744 rows x 6 columns]\n",
      "actual 123295    75.291375\n",
      "Name: percent_lots_available, dtype: float64\n",
      "     carpark_number  hour  percent_lots_available  day      lag_1    lag_168\n",
      "2232            AV1     0               76.895307    1  74.368231  82.490975\n",
      "2233            AV1     1               76.654633    1  76.895307  81.859206\n",
      "2234            AV1     2               76.895307    1  76.654633  81.227437\n",
      "2235            AV1     3               76.173285    1  76.895307  81.227437\n",
      "2236            AV1     4               75.210590    1  76.173285  81.107100\n",
      "...             ...   ...                     ...  ...        ...        ...\n",
      "2707            AV1    19               81.829122   31  74.969916  15.764140\n",
      "2708            AV1    20               99.638989   31  81.829122  43.321300\n",
      "2709            AV1    21               76.534296   31  99.638989  61.131167\n",
      "2710            AV1    22               81.829122   31  76.534296  70.938628\n",
      "2711            AV1    23               85.559567   31  81.829122  74.849579\n",
      "\n",
      "[480 rows x 6 columns]\n",
      "actual 2431    74.368231\n",
      "Name: percent_lots_available, dtype: float64\n"
     ]
    },
    {
     "name": "stderr",
     "output_type": "stream",
     "text": [
      "C:\\Users\\wamik\\anaconda3\\lib\\site-packages\\sklearn\\base.py:329: UserWarning: Trying to unpickle estimator SVR from version 1.0.2 when using version 1.1.2. This might lead to breaking code or invalid results. Use at your own risk. For more info please refer to:\n",
      "https://scikit-learn.org/stable/model_persistence.html#security-maintainability-limitations\n",
      "  warnings.warn(\n",
      "C:\\Users\\wamik\\anaconda3\\lib\\site-packages\\sklearn\\base.py:329: UserWarning: Trying to unpickle estimator SVR from version 1.0.2 when using version 1.1.2. This might lead to breaking code or invalid results. Use at your own risk. For more info please refer to:\n",
      "https://scikit-learn.org/stable/model_persistence.html#security-maintainability-limitations\n",
      "  warnings.warn(\n",
      "C:\\Users\\wamik\\anaconda3\\lib\\site-packages\\sklearn\\base.py:329: UserWarning: Trying to unpickle estimator SVR from version 1.0.2 when using version 1.1.2. This might lead to breaking code or invalid results. Use at your own risk. For more info please refer to:\n",
      "https://scikit-learn.org/stable/model_persistence.html#security-maintainability-limitations\n",
      "  warnings.warn(\n",
      "C:\\Users\\wamik\\anaconda3\\lib\\site-packages\\sklearn\\base.py:329: UserWarning: Trying to unpickle estimator SVR from version 1.0.2 when using version 1.1.2. This might lead to breaking code or invalid results. Use at your own risk. For more info please refer to:\n",
      "https://scikit-learn.org/stable/model_persistence.html#security-maintainability-limitations\n",
      "  warnings.warn(\n"
     ]
    },
    {
     "data": {
      "text/plain": [
       "[array([0.09957921]),\n",
       " array([60.0691467]),\n",
       " array([77.1395119]),\n",
       " array([75.4627124])]"
      ]
     },
     "execution_count": 28,
     "metadata": {},
     "output_type": "execute_result"
    }
   ],
   "source": [
    "now = datetime.now()\n",
    "preds = pred_func(now, 13, \"oct_data_with_lags.csv\", ['STM3', 'BM20', 'TE13', 'AV1'])\n",
    "preds"
   ]
  },
  {
   "cell_type": "code",
   "execution_count": null,
   "id": "8472fd37",
   "metadata": {},
   "outputs": [],
   "source": [
    "def get_user_input():\n",
    "    df = pd.read_csv('landmark_locations.csv', index_col=False)\n",
    "    df=df.reset_index()\n",
    "    df=df.drop(['index'],axis=1)\n",
    "    print(df[['Landmark', 'Postal_Code']])\n",
    "    print(\"\\n\")\n",
    "    print(\"Enter your preferred Landmark: \")\n",
    "    user_input = input()\n",
    "    \n",
    "    return user_input"
   ]
  },
  {
   "cell_type": "code",
   "execution_count": null,
   "id": "ca4d9f1d",
   "metadata": {},
   "outputs": [],
   "source": [
    "get_user_input()"
   ]
  }
 ],
 "metadata": {
  "kernelspec": {
   "display_name": "Python 3",
   "language": "python",
   "name": "python3"
  },
  "language_info": {
   "codemirror_mode": {
    "name": "ipython",
    "version": 3
   },
   "file_extension": ".py",
   "mimetype": "text/x-python",
   "name": "python",
   "nbconvert_exporter": "python",
   "pygments_lexer": "ipython3",
   "version": "3.8.8"
  }
 },
 "nbformat": 4,
 "nbformat_minor": 5
}
