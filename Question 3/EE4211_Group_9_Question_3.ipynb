{
 "cells": [
  {
   "cell_type": "markdown",
   "metadata": {
    "colab_type": "text",
    "id": "view-in-github"
   },
   "source": [
    "<a href=\"https://colab.research.google.com/github/R-Ramana/EE4211-Project/blob/main/EE4211_Group_9_Question_3.ipynb\" target=\"_parent\"><img src=\"https://colab.research.google.com/assets/colab-badge.svg\" alt=\"Open In Colab\"/></a>"
   ]
  },
  {
   "cell_type": "markdown",
   "metadata": {
    "id": "fQgNCZzX16HU"
   },
   "source": [
    "## Project Proposal "
   ]
  },
  {
   "cell_type": "markdown",
   "metadata": {
    "id": "Gp0vdPiF2DIy"
   },
   "source": [
    "**We propose a multi-pronged approach wherein we will be tackling the given problem from the perspective of 2 different stakeholders: vehicle drivers and the Urban Redevelopment Authority (URA)/Land Transport Authority (LTA). Our approach allows us to analyse data in the short term as well as the long term.**\n",
    "\n",
    "## Short-term analytics"
   ]
  },
  {
   "cell_type": "markdown",
   "metadata": {},
   "source": [
    "Our recommendation system targets users aiming to plan their trips early. Such users will be required to provide their destination and estimated time of arrival (in terms of hours from now) and our system will provide them with the best available parking option based on distance from their destination and parking availability.\n",
    "\n",
    "### ML Forecasting for carpark availability\n",
    " - Dynamic ML system that uses the following data depending on the month to predict hourly availability[1]:\n",
    "\n",
    "     - Past 2 (exclude 2020 due to covid) years (October 2019, October 2021) for the same month (in our case, October)\n",
    "     - Past 2 months (August and September 2022)\n",
    "     - October 2022 data for testing purposes.\n",
    "     \n",
    "**[1] For the purpose of this project we will be predicting October 2022's data to allow us to test the usability/performance of the system.**\n",
    "\n",
    "### Algorithm\n",
    "        \n",
    " 1. Filter out a list of open carparks based on arrival hour. \n",
    " 2. Calculate distance based on destination geo coordinates and coordinates of open carparks\n",
    " 3. Partial Selection Sort according to distance (least to max) to store top 5 possible open carparks with least distance for that sample.\n",
    " 3. Predict carpark availability for the top 5 chosen carparks with the given arrival hour using the ML model described above.\n",
    " 4. Choose the most available carpark from the top 5 carparks based on distance.\n",
    "     \n"
   ]
  },
  {
   "cell_type": "markdown",
   "metadata": {
    "id": "cO_bUKsS2D3M"
   },
   "source": [
    "\n",
    "<table>\n",
    "  <tr>\n",
    "    <th style=\"text-align:center;\">Data Attribute</th>\n",
    "    <th style=\"text-align:center;\">Source</th>\n",
    "    <th style=\"text-align:center;\">Remarks</th>\n",
    "  </tr>\n",
    "  <tr>\n",
    "    <td style=\"text-align:left;\">Geo-coordinates of current/final destination</td>\n",
    "    <td style=\"text-align:left;\">User Input</td>\n",
    "    <td style=\"text-align:left;\">To provide best carpark recommendations based on estimated time of arrrival and carparks near destination</td>\n",
    "  </tr>\n",
    "  <tr>\n",
    "    <td style=\"text-align:left;\">Geo-coordinates of carparks</td>\n",
    "    <td style=\"text-align:left;\" rowspan=\"3\"><a href\"https://data.gov.sg/dataset/hdb-carpark-information\">Carpark Info Dataset</a></td>\n",
    "    <td style=\"text-align:left;\">To recommend carparks based on distance from destination</td>\n",
    "  </tr>\n",
    "  <tr>\n",
    "      <td style=\"text-align:left;\">Cost of parking</td>\n",
    "      <td style=\"text-align:left;\">To recommend carparks based on cost</td>\n",
    "      \n",
    "  </tr>\n",
    "  <tr>\n",
    "      <td style=\"text-align:left;\">Carpark opening hours</td>\n",
    "      <td style=\"text-align:left;\">To recommend carparks that are open during user's time of arrival</td>\n",
    "      \n",
    "  </tr>\n",
    "  <tr>\n",
    "      <td style=\"text-align:left;\">Carpark availability</td>\n",
    "      <td style=\"text-align:left;\"><a href\"https://data.gov.sg/dataset/carpark-availability\">Carpark Availability Dataset</a></td>\n",
    "      <td style=\"text-align:left;\">To recommend carparks based on availability</td>\n",
    "  <tr>\n",
    "      <td colspan=\"3\" style=\"text-align:center; font-size:12px; text-transform:uppercase;\"><b>If time permits...</b></td>\n",
    "      \n",
    "      \n",
    "  </tr>\n",
    "  <tr>\n",
    "      <td style=\"text-align:left;\">Weather forecast</td>\n",
    "      <td style=\"text-align:left;\"><a href\"https://www.programmableweb.com/api/nea-datasets\">NEA Weather API</a></td>\n",
    "      <td style=\"text-align:left;\">To recommend carparks based on current weather conditions</td>\n",
    "      \n",
    "  </tr>\n",
    "  <tr>\n",
    "      <td style=\"text-align:left;\">Traffic Conditions</td>\n",
    "      <td style=\"text-align:left;\"><a href\"https://datamall.lta.gov.sg/content/datamall/en/dynamic-data.html\">Estimated Travel Times API</td>\n",
    "      <td style=\"text-align:left;\">To improve our time-of-arrival estimation</td>\n",
    "      \n",
    "  </tr>\n",
    "\n",
    "</table>\n"
   ]
  },
  {
   "cell_type": "markdown",
   "metadata": {
    "id": "pGXj17uK2J_N"
   },
   "source": [
    "**If time permits, we intend on supplementing our current data sources with Real-time Traffic Data and Weather forecasting insights to improve our reccomendations.**"
   ]
  },
  {
   "cell_type": "markdown",
   "metadata": {
    "id": "YR2MCLGb2MuW"
   },
   "source": [
    "### Long-term analytics"
   ]
  },
  {
   "cell_type": "markdown",
   "metadata": {
    "id": "ltEIz3422VBz"
   },
   "source": [
    "#### From a urban developer/Singapore Land Transport Authority's point of view:\n",
    "\n",
    "We believe long-term analysis of this data will be beneficial from an urban developer's perspective, specifically for the LTA and URA. By looking at the usage of carparks trends through historical data analysis, we can forecast the availability of carparks in the long-term. Developers can identify hotspots where there may often be high usage of car parks and thus an excellent location to build more lots or carparks to cater to the high demand. In contrast, this long-term analysis can also identify potential spots where space can be saved by reducing the number of lots or carparks that don't have high usage forecasted.\n",
    "\n",
    "**If time permits, with the additional data on upcoming HDB developments, we can take in the geo-coordinates of existing carparks as well as carpark availability, to predict if more carparks need to be built around these upcoming HDB developments.**\n"
   ]
  },
  {
   "cell_type": "markdown",
   "metadata": {
    "id": "PstojtQ922nt"
   },
   "source": [
    "### PROPOSAL FEEDBACK:\n",
    "\n",
    "\n",
    "*   Very extensive range of dataset and data sources\n",
    "\n",
    "#### Recommendations:\n",
    "*   Long-term analytics can clearly use a machine learning model, whereas for the short-term\n",
    "analytics, the “features” are clear, but the “labels” are not so clear. If the “labels” are made\n",
    "clear in the final report, this would be an excellent problem and solution.\n",
    "*   There is a higher potential for the short-term analytics proposal, but it is tougher as well. We\n",
    "recommend that this group approaches us during the live consultation sessions if you want\n",
    "to verify with us and provide us with more details so that we can help. Else, if the group\n",
    "already has clearly defined “labels” in mind, then please execute it. "
   ]
  },
  {
   "cell_type": "markdown",
   "metadata": {
    "id": "WV3dwUZD2eOv"
   },
   "source": [
    "*Q3.1 At this point, you understand the data quite well. Carry out the analysis you proposed\n",
    "in your group project proposal. You should use the dataset given but you may also use\n",
    "additional datasets to supplement your analysis, look at unaggregated data, etc. Please\n",
    "be sure to justify why the analysis is useful and interesting in the context of a data science\n",
    "project. Note that you are not limited to the initial proposal and are free to expand on it.*"
   ]
  },
  {
   "cell_type": "markdown",
   "metadata": {
    "id": "J3H4lIdk2mVA"
   },
   "source": [
    "*Q3.2 Based on the insights derived from the analysis, suggest a practical action that can be\n",
    "taken (i.e., an action that can be taken to benefit society. Do not suggest actions such as\n",
    "hyperparameter tuning here).*"
   ]
  }
 ],
 "metadata": {
  "colab": {
   "authorship_tag": "ABX9TyMMXbmpmKKk+5/E/ON4nDmH",
   "include_colab_link": true,
   "provenance": []
  },
  "kernelspec": {
   "display_name": "Python 3",
   "language": "python",
   "name": "python3"
  },
  "language_info": {
   "codemirror_mode": {
    "name": "ipython",
    "version": 3
   },
   "file_extension": ".py",
   "mimetype": "text/x-python",
   "name": "python",
   "nbconvert_exporter": "python",
   "pygments_lexer": "ipython3",
   "version": "3.8.8"
  }
 },
 "nbformat": 4,
 "nbformat_minor": 1
}
