{
 "cells": [
  {
   "cell_type": "code",
   "execution_count": 3,
   "id": "1cf8036e",
   "metadata": {},
   "outputs": [],
   "source": [
    "import pandas as pd\n",
    "import numpy as np"
   ]
  },
  {
   "cell_type": "code",
   "execution_count": 4,
   "id": "77a96421",
   "metadata": {},
   "outputs": [],
   "source": [
    "def pred_func(current_time, arrival_hour_in, csv, carpark_array):\n",
    "    df = pd.read_csv(csv)\n",
    "    \n",
    "    current_day = current_time.day\n",
    "    current_hour = current_time.hour\n",
    "    arrival_hour = current_hour + arrival_hour_in\n",
    "    \n",
    "    if arrival_hour > 24:\n",
    "        arrival_hour -= 24\n",
    "        current_day += 1\n",
    "    \n",
    "    predictions = []\n",
    "    \n",
    "    for carpark in carpark_array:\n",
    "        carpark_df = df[df.carpark_number.isin(carpark)]\n",
    "        day_df = df[carpark_df.day.isin(current_day)]\n",
    "        final_df = df[day_df.hour.isin(arrival_hour)]\n",
    "        \n",
    "        model = \"models/model_\" + carpark + \".sav\"\n",
    "        \n",
    "        prediction = model.predict(current_day, arrival_hour, final_df['lag_1'].iloc[0], final_df['lag_168'].iloc[0])\n",
    "        predictions.append(prediction)\n",
    "        \n",
    "    return predictions\n",
    "        \n",
    "\n",
    "#day, lag 1 col, lag168 col, hr\n",
    "#current time (now.date), day, hr, get corresponding row from the df. use those values to predict the percentage lot available."
   ]
  },
  {
   "cell_type": "code",
   "execution_count": null,
   "id": "e7388ddf",
   "metadata": {},
   "outputs": [],
   "source": []
  }
 ],
 "metadata": {
  "kernelspec": {
   "display_name": "Python 3",
   "language": "python",
   "name": "python3"
  },
  "language_info": {
   "codemirror_mode": {
    "name": "ipython",
    "version": 3
   },
   "file_extension": ".py",
   "mimetype": "text/x-python",
   "name": "python",
   "nbconvert_exporter": "python",
   "pygments_lexer": "ipython3",
   "version": "3.8.8"
  }
 },
 "nbformat": 4,
 "nbformat_minor": 5
}
