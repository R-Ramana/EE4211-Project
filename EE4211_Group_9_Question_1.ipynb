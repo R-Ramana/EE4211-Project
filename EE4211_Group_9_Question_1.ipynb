{
 "cells": [
  {
   "cell_type": "code",
   "execution_count": 1,
   "id": "d5ea3cfb",
   "metadata": {},
   "outputs": [
    {
     "name": "stdout",
     "output_type": "stream",
     "text": [
      "{\"message\":\"Missing Authentication Token\"}\n"
     ]
    }
   ],
   "source": [
    "import requests\n",
    "import json\n",
    "import pandas as pd\n",
    "\n",
    "# Change these values for different dates\n",
    "year = \"2022\"\n",
    "month = \"4\"\n",
    "day = \"12\"\n",
    "hour = \"12\"\n",
    "minute = \"30\"\n",
    "second = \"0\"\n",
    "\n",
    "site = f'https://api.data.gov.sg/v1/transport/carpark-availability?date_time={year}-{month.zfill(2)}-{day.zfill(2)}T{hour.zfill(2)}%3A{minute.zfill(2)}%3A{second.zfill(2)}'\n",
    "print(site)\n",
    "response_API = requests.get(site)\n",
    "data = response_API.text\n",
    "data = json.loads(data)\n",
    "timestamp = data[\"items\"][0][\"timestamp\"]\n",
    "print(timestamp)\n",
    "\n",
    "data = data[\"items\"][0][\"carpark_data\"]\n",
    "with open(\"EE4211data.json\", 'w') as fp:\n",
    "    json.dump(data, fp)\n",
    "df = pd.read_json(\"EE4211data.json\")\n",
    "for heading in (\"total_lots\",\"lot_type\",\"lots_available\"):\n",
    "    df[heading] = df[\"carpark_info\"].apply(lambda x: x[0][heading])\n",
    "df = df.drop([\"carpark_info\"], axis=1)\n",
    "df"
   ]
  },
  {
   "cell_type": "code",
   "execution_count": null,
   "id": "4612a52f",
   "metadata": {},
   "outputs": [],
   "source": []
  }
 ],
 "metadata": {
  "kernelspec": {
   "display_name": "Python 3 (ipykernel)",
   "language": "python",
   "name": "python3"
  },
  "language_info": {
   "codemirror_mode": {
    "name": "ipython",
    "version": 3
   },
   "file_extension": ".py",
   "mimetype": "text/x-python",
   "name": "python",
   "nbconvert_exporter": "python",
   "pygments_lexer": "ipython3",
   "version": "3.9.12"
  }
 },
 "nbformat": 4,
 "nbformat_minor": 5
}
