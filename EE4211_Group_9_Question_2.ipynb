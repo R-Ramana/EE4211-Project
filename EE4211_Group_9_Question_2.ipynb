{
  "nbformat": 4,
  "nbformat_minor": 0,
  "metadata": {
    "colab": {
      "provenance": [],
      "collapsed_sections": []
    },
    "kernelspec": {
      "name": "python3",
      "display_name": "Python 3"
    },
    "language_info": {
      "name": "python"
    }
  },
  "cells": [
    {
      "cell_type": "markdown",
      "source": [
        "# EE4211 Group 9 Question 2"
      ],
      "metadata": {
        "id": "yemqhtEBwJiX"
      }
    },
    {
      "cell_type": "markdown",
      "source": [
        "2.1 In this part, you will build a model to forecast the hourly carpark availability in the future\n",
        "(aggregated across all carparks instead of looking at each carpark individually). Can you\n",
        "explain why you may want to forecast the carpark availability in the future? Who would\n",
        "find this information valuable? What can you do if you have a good forecasting model?\n",
        "\n",
        "\n",
        "This would help commuters easily identify available carparks they can use and easily plan their route and schedule ahead of time. At the same time, by being able to forecast availability of carparks, developers can identify hotspots where there may often be high usage of car parks and thus a good location to build more lots or carparks to cater to the high demand. In contrast, they can also identify potential spots where space which is a constraint in SG, can be saved by reducing the number of lots or carparks that don't have high usage forecasted. Event organisers can also plan their events around where there would be high percentage of free carparks through analysing this forecasting model."
      ],
      "metadata": {
        "id": "9Kc9w7FtwL-c"
      }
    }
  ]
}